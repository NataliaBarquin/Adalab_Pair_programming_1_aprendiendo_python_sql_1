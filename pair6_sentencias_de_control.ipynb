{
 "cells": [
  {
   "cell_type": "code",
   "execution_count": 20,
   "metadata": {},
   "outputs": [
    {
     "name": "stdout",
     "output_type": "stream",
     "text": [
      "C\n"
     ]
    }
   ],
   "source": [
    "notas_alumnos = int(input('¿qué nota has sacado?'))\n",
    "\n",
    "if notas_alumnos <25:\n",
    "    print('F')\n",
    "elif  25 <= notas_alumnos <= 45:\n",
    "    print('E')\n",
    "elif  45 <= notas_alumnos <= 50:\n",
    "    print('D')\n",
    "elif 50 <= notas_alumnos <= 60:\n",
    "    print('C')\n",
    "elif 60 <= notas_alumnos <= 80:\n",
    "    print('B')\n",
    "elif 80 < notas_alumnos:\n",
    "    print('A')\n"
   ]
  },
  {
   "cell_type": "code",
   "execution_count": 40,
   "metadata": {},
   "outputs": [
    {
     "name": "stdout",
     "output_type": "stream",
     "text": [
      "Alumno1, eres el más joven\n",
      "Alumno2, eres el más viejo\n"
     ]
    }
   ],
   "source": [
    "edad_alumno1 = int(input('¿qué edad tienes?'))\n",
    "edad_alumno2 = int(input('¿qué edad tienes?'))\n",
    "edad_alumno3 = int(input('¿qué edad tienes?'))\n",
    "\n",
    "if edad_alumno1 < edad_alumno2:\n",
    "    if edad_alumno1 < edad_alumno3:\n",
    "        print (\"Alumno1, eres el más joven\")\n",
    "elif edad_alumno1 > edad_alumno2:\n",
    "    if edad_alumno1 > edad_alumno3:\n",
    "        print (\"Alumno1, eres el más viejo\")\n",
    "\n",
    "if edad_alumno2 < edad_alumno1:\n",
    "    if edad_alumno2 < edad_alumno3:\n",
    "        print (\"Alumno2, eres el más joven\")\n",
    "elif edad_alumno2 > edad_alumno1:\n",
    "    if edad_alumno2 > edad_alumno3:\n",
    "        print (\"Alumno2, eres el más viejo\")\n",
    "\n",
    "if edad_alumno3 < edad_alumno1:\n",
    "    if edad_alumno3 < edad_alumno2:\n",
    "        print (\"Alumno3, eres el más joven\")\n",
    "elif edad_alumno3 > edad_alumno1:\n",
    "    if edad_alumno3 > edad_alumno2:\n",
    "        print (\"Alumno3, eres el más viejo\")\n"
   ]
  },
  {
   "cell_type": "code",
   "execution_count": 33,
   "metadata": {},
   "outputs": [
    {
     "name": "stdout",
     "output_type": "stream",
     "text": [
      "Buenos días Vero\n"
     ]
    }
   ],
   "source": [
    "nombre = input('Cual es tu nombre?')\n",
    "\n",
    "if nombre == 'Bond':\n",
    "    print ('Bienvenido a bordo de 007')\n",
    "else: \n",
    "    print ('Buenos días', nombre)"
   ]
  },
  {
   "cell_type": "code",
   "execution_count": 68,
   "metadata": {},
   "outputs": [
    {
     "name": "stdout",
     "output_type": "stream",
     "text": [
      "['Taiwan']\n",
      "['Taiwan', 'Japan']\n",
      "['Taiwan', 'Japan', 'Russia']\n"
     ]
    }
   ],
   "source": [
    "arbol = {\"Taiwan\": 69593,\n",
    "        \"Japan\": 49894, \n",
    "        \"Russia\": 41396, \n",
    "        \"Canada\": 36388, \n",
    "        \"Bulgaria\": 24987}\n",
    "\n",
    "pais = list(arbol.keys())\n",
    "arboles = list(arbol.values())\n",
    "indice_arbol = 0\n",
    "indice_pais = 0\n",
    "masarboles = []\n",
    "\n",
    "while arboles [indice_arbol] > 40000:\n",
    "    masarboles.append(pais[indice_pais])\n",
    "    indice_arbol += 1\n",
    "    indice_pais += 1\n",
    "    print(masarboles)\n",
    "\n"
   ]
  },
  {
   "cell_type": "code",
   "execution_count": 63,
   "metadata": {},
   "outputs": [
    {
     "name": "stdout",
     "output_type": "stream",
     "text": [
      "Hola, vas a clase A\n"
     ]
    }
   ],
   "source": [
    "nombre = input('Cual es tu nombre?')\n",
    "sexo = input('Cual es tu sexo?')\n",
    "\n",
    "if nombre <'M':\n",
    "    if sexo == 'mujer':\n",
    "        print('Vas a clase A')\n",
    "    else:\n",
    "        print('Vas a clase B')\n",
    "\n",
    "if nombre >'M':\n",
    "    if sexo == 'mujer':\n",
    "        print('Hola, vas a clase B')\n",
    "    else:\n",
    "        print('Hola, vas a clase A')\n"
   ]
  },
  {
   "cell_type": "code",
   "execution_count": 67,
   "metadata": {},
   "outputs": [
    {
     "name": "stdout",
     "output_type": "stream",
     "text": [
      "0\n",
      "1\n",
      "2\n"
     ]
    }
   ],
   "source": [
    "z = 0\n",
    "\n",
    "while z < 3:\n",
    "    if z == 0:\n",
    "        print(z)\n",
    "        lista_aux = [z]\n",
    "        z += 1\n",
    "    elif z == 1:\n",
    "        print(z)\n",
    "        lista_aux = [z]\n",
    "        z += 1\n",
    "    else:\n",
    "        print(z)\n",
    "        z += 1\n"
   ]
  }
 ],
 "metadata": {
  "kernelspec": {
   "display_name": "adalabenv",
   "language": "python",
   "name": "python3"
  },
  "language_info": {
   "codemirror_mode": {
    "name": "ipython",
    "version": 3
   },
   "file_extension": ".py",
   "mimetype": "text/x-python",
   "name": "python",
   "nbconvert_exporter": "python",
   "pygments_lexer": "ipython3",
   "version": "3.10.11"
  },
  "orig_nbformat": 4
 },
 "nbformat": 4,
 "nbformat_minor": 2
}
