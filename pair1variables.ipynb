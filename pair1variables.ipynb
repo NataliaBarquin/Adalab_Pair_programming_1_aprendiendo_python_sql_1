{
 "cells": [
  {
   "cell_type": "code",
   "execution_count": 13,
   "metadata": {},
   "outputs": [
    {
     "name": "stdout",
     "output_type": "stream",
     "text": [
      "True\n",
      "False\n",
      "False\n",
      "True\n"
     ]
    }
   ],
   "source": [
    "numero1 = 30\n",
    "numero2 = 25\n",
    "numero3 = 15\n",
    "\n",
    "print (numero1 > numero2)\n",
    "print (numero3 < numero1 < numero2)\n",
    "print (numero3 == numero2)\n",
    "print (numero2 != numero1)"
   ]
  },
  {
   "cell_type": "code",
   "execution_count": 7,
   "metadata": {},
   "outputs": [
    {
     "name": "stdout",
     "output_type": "stream",
     "text": [
      "15.370000000000001\n",
      "3.5900000000000007\n",
      "3.5900000000000007\n",
      "2\n"
     ]
    }
   ],
   "source": [
    "altura1 = 9.48\n",
    "altura2 = 5.89\n",
    "\n",
    "print (altura1 + altura2)\n",
    "print (altura1 - altura2)\n",
    "print (altura1 % altura2)\n",
    "print (round(altura1 / altura2))"
   ]
  },
  {
   "cell_type": "code",
   "execution_count": 32,
   "metadata": {},
   "outputs": [
    {
     "name": "stdout",
     "output_type": "stream",
     "text": [
      "VERONICA MARINA\n",
      "veronica marina\n",
      "Veronica Marina\n",
      "Veronica marina\n"
     ]
    }
   ],
   "source": [
    "nombre = input ('Escribe tu nombre')\n",
    "apellido = input ('Escribe tu apellido')\n",
    "\n",
    "nombremayus = nombre.upper()\n",
    "apellidomayus = apellido.upper()\n",
    "print (nombremayus , apellidomayus)\n",
    "\n",
    "nombreminus = nombre.lower()\n",
    "apellidominus = apellido.lower()\n",
    "print (nombreminus , apellidominus)\n",
    "\n",
    "nombre1 = nombre.title()\n",
    "apellido1 = apellido.title()\n",
    "print (nombre1 , apellido1)\n",
    "print (nombre1 , apellidominus)"
   ]
  },
  {
   "cell_type": "code",
   "execution_count": 1,
   "metadata": {},
   "outputs": [],
   "source": [
    "frase_1 = input ('Dime una frase')"
   ]
  },
  {
   "cell_type": "code",
   "execution_count": 81,
   "metadata": {},
   "outputs": [],
   "source": [
    "vocal = input ('Dime una vocal')\n",
    "frase1_cambiada = frase_1.replace(vocal,vocal.capitalize())\n"
   ]
  },
  {
   "cell_type": "code",
   "execution_count": 82,
   "metadata": {},
   "outputs": [
    {
     "name": "stdout",
     "output_type": "stream",
     "text": [
      "Por fIn es vIernes\n"
     ]
    }
   ],
   "source": [
    "print (frase1_cambiada)"
   ]
  },
  {
   "cell_type": "code",
   "execution_count": 27,
   "metadata": {},
   "outputs": [],
   "source": [
    "lista_compra = input ('¿Cuál es tu lista de la compra?')"
   ]
  },
  {
   "cell_type": "code",
   "execution_count": 62,
   "metadata": {},
   "outputs": [
    {
     "data": {
      "text/plain": [
       "['peras', 'manzanas', 'naranjas']"
      ]
     },
     "execution_count": 62,
     "metadata": {},
     "output_type": "execute_result"
    }
   ],
   "source": [
    "lista_compra"
   ]
  },
  {
   "cell_type": "code",
   "execution_count": 83,
   "metadata": {},
   "outputs": [
    {
     "name": "stdout",
     "output_type": "stream",
     "text": [
      "peras\n",
      "manzanas\n",
      "naranjas\n"
     ]
    }
   ],
   "source": [
    "print ('\\n'.join(lista_compra))"
   ]
  }
 ],
 "metadata": {
  "kernelspec": {
   "display_name": "base",
   "language": "python",
   "name": "python3"
  },
  "language_info": {
   "codemirror_mode": {
    "name": "ipython",
    "version": 3
   },
   "file_extension": ".py",
   "mimetype": "text/x-python",
   "name": "python",
   "nbconvert_exporter": "python",
   "pygments_lexer": "ipython3",
   "version": "3.9.7"
  },
  "orig_nbformat": 4
 },
 "nbformat": 4,
 "nbformat_minor": 2
}
