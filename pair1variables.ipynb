{
 "cells": [
  {
   "cell_type": "code",
   "execution_count": 13,
   "metadata": {},
   "outputs": [
    {
     "name": "stdout",
     "output_type": "stream",
     "text": [
      "True\n",
      "False\n",
      "False\n",
      "True\n"
     ]
    }
   ],
   "source": [
    "numero1 = 30\n",
    "numero2 = 25\n",
    "numero3 = 15\n",
    "\n",
    "print (numero1 > numero2)\n",
    "print (numero3 < numero1 < numero2)\n",
    "print (numero3 == numero2)\n",
    "print (numero2 != numero1)"
   ]
  },
  {
   "cell_type": "code",
   "execution_count": 7,
   "metadata": {},
   "outputs": [
    {
     "name": "stdout",
     "output_type": "stream",
     "text": [
      "15.370000000000001\n",
      "3.5900000000000007\n",
      "3.5900000000000007\n",
      "2\n"
     ]
    }
   ],
   "source": [
    "altura1 = 9.48\n",
    "altura2 = 5.89\n",
    "\n",
    "print (altura1 + altura2)\n",
    "print (altura1 - altura2)\n",
    "print (altura1 % altura2)\n",
    "print (round(altura1 / altura2))"
   ]
  },
  {
   "cell_type": "code",
   "execution_count": 32,
   "metadata": {},
   "outputs": [
    {
     "name": "stdout",
     "output_type": "stream",
     "text": [
      "VERONICA MARINA\n",
      "veronica marina\n",
      "Veronica Marina\n",
      "Veronica marina\n"
     ]
    }
   ],
   "source": [
    "nombre = input ('Escribe tu nombre')\n",
    "apellido = input ('Escribe tu apellido')\n",
    "\n",
    "nombremayus = nombre.upper()\n",
    "apellidomayus = apellido.upper()\n",
    "print (nombremayus , apellidomayus)\n",
    "\n",
    "nombreminus = nombre.lower()\n",
    "apellidominus = apellido.lower()\n",
    "print (nombreminus , apellidominus)\n",
    "\n",
    "nombre1 = nombre.title()\n",
    "apellido1 = apellido.title()\n",
    "print (nombre1 , apellido1)\n",
    "print (nombre1 , apellidominus)"
   ]
  }
 ],
 "metadata": {
  "kernelspec": {
   "display_name": "base",
   "language": "python",
   "name": "python3"
  },
  "language_info": {
   "codemirror_mode": {
    "name": "ipython",
    "version": 3
   },
   "file_extension": ".py",
   "mimetype": "text/x-python",
   "name": "python",
   "nbconvert_exporter": "python",
   "pygments_lexer": "ipython3",
   "version": "3.9.7"
  },
  "orig_nbformat": 4
 },
 "nbformat": 4,
 "nbformat_minor": 2
}
